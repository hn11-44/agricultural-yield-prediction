{
 "cells": [
  {
   "cell_type": "code",
   "execution_count": 23,
   "id": "774c8856",
   "metadata": {},
   "outputs": [],
   "source": [
    "#Import necessary libraries \n",
    "import os\n",
    "import numpy as np \n",
    "import glob\n",
    "import pandas as pd"
   ]
  },
  {
   "cell_type": "code",
   "execution_count": 14,
   "id": "1b75f955",
   "metadata": {},
   "outputs": [],
   "source": [
    "# Let us load the weatehr data \n",
    "weather_dir = '../data/raw/weather'\n",
    "all_weather_files = glob.glob(os.path.join(weather_dir, \"*.csv\"))"
   ]
  },
  {
   "cell_type": "code",
   "execution_count": 21,
   "id": "d0543d19",
   "metadata": {},
   "outputs": [
    {
     "name": "stdout",
     "output_type": "stream",
     "text": [
      "We have 792 weather data\n"
     ]
    }
   ],
   "source": [
    "print(f\"We have {len(all_weather_files)} weather data\")"
   ]
  },
  {
   "cell_type": "code",
   "execution_count": 25,
   "id": "0745a483",
   "metadata": {},
   "outputs": [],
   "source": [
    "# Let us create a list that would contain each of our dataframe\n",
    "\n",
    "list_of_dfs = []\n",
    "for f in all_weather_files:\n",
    "    df = pd.read_csv(f)\n",
    "    # Which year and county the file belongs to. We get this from the filename. \n",
    "    # From '2016_19001.csv' we extract 2016 and 19001\n",
    "    filename = os.path.basename(f)\n",
    "    year, fips_code = os.path.splitext(filename)[0].split('_')\n",
    "    \n",
    "    df['year'] = int(year)\n",
    "    df['fips_code'] = int(fips_code)\n",
    "    list_of_dfs.append(df)\n",
    "\n",
    "df_weather_raw = pd.concat(list_of_dfs, ignore_index = True)"
   ]
  },
  {
   "cell_type": "code",
   "execution_count": 26,
   "id": "ebb424eb",
   "metadata": {},
   "outputs": [],
   "source": [
    "# Define summary statistics for temperature at 2m and precepitation\n",
    "aggregations = {\n",
    "    'T2M' : [\n",
    "        'mean', # Average temperature for the season\n",
    "        'max', # Hottest day's average temperature\n",
    "        'min',  #Coldest day's average temerature\n",
    "        'std' #Standard deviation of temperature\n",
    "    ], \n",
    "    \n",
    "    'PRECTOTCORR': [\n",
    "        'sum', # Total precipation for entire season\n",
    "        'max' # Single daya with most rain\n",
    "    ]\n",
    "}\n"
   ]
  },
  {
   "cell_type": "code",
   "execution_count": 27,
   "id": "20d503c4",
   "metadata": {},
   "outputs": [],
   "source": [
    "# Group the weather data by wach year and each county and apply list of aggregations\n",
    "\n",
    "df_weather_features = df_weather_raw.groupby(['year', 'fips_code']).agg(aggregations).reset_index()"
   ]
  },
  {
   "cell_type": "code",
   "execution_count": 29,
   "id": "0c062366",
   "metadata": {},
   "outputs": [],
   "source": [
    "df_weather_features.columns = ['_'.join(col).strip() for col in df_weather_features.columns.values]"
   ]
  },
  {
   "cell_type": "code",
   "execution_count": 31,
   "id": "e33b6594",
   "metadata": {},
   "outputs": [],
   "source": [
    "df_weather_features.rename(columns={'year_' : 'year', 'fips_code_':'fips_code'}, inplace = True)"
   ]
  },
  {
   "cell_type": "code",
   "execution_count": 32,
   "id": "78067f20",
   "metadata": {},
   "outputs": [],
   "source": [
    "# Let us create extreme heat days and \n",
    "df_extreme_heat = df_weather_raw[df_weather_raw['T2M'] > 32]\n",
    "extreme_heat_days = df_extreme_heat.groupby(['year', 'fips_code']).size().reset_index(name='extreme_heat_days')"
   ]
  },
  {
   "cell_type": "code",
   "execution_count": 33,
   "id": "748db4cd",
   "metadata": {},
   "outputs": [],
   "source": [
    "df_weather_features = pd.merge(df_weather_features, extreme_heat_days, on = ['year', 'fips_code'], how = 'left')"
   ]
  },
  {
   "cell_type": "code",
   "execution_count": 34,
   "id": "fd3b9b25",
   "metadata": {},
   "outputs": [
    {
     "name": "stderr",
     "output_type": "stream",
     "text": [
      "/var/folders/qg/q4wtx92x1kjfrg1x9bk3_v_w0000gn/T/ipykernel_56775/2891146510.py:1: FutureWarning: A value is trying to be set on a copy of a DataFrame or Series through chained assignment using an inplace method.\n",
      "The behavior will change in pandas 3.0. This inplace method will never work because the intermediate object on which we are setting values always behaves as a copy.\n",
      "\n",
      "For example, when doing 'df[col].method(value, inplace=True)', try using 'df.method({col: value}, inplace=True)' or df[col] = df[col].method(value) instead, to perform the operation inplace on the original object.\n",
      "\n",
      "\n",
      "  df_weather_features['extreme_heat_days'].fillna(0, inplace = True)\n"
     ]
    }
   ],
   "source": [
    "df_weather_features['extreme_heat_days'].fillna(0, inplace = True)"
   ]
  },
  {
   "cell_type": "code",
   "execution_count": 36,
   "id": "056d5ca3",
   "metadata": {},
   "outputs": [
    {
     "data": {
      "text/html": [
       "<div>\n",
       "<style scoped>\n",
       "    .dataframe tbody tr th:only-of-type {\n",
       "        vertical-align: middle;\n",
       "    }\n",
       "\n",
       "    .dataframe tbody tr th {\n",
       "        vertical-align: top;\n",
       "    }\n",
       "\n",
       "    .dataframe thead th {\n",
       "        text-align: right;\n",
       "    }\n",
       "</style>\n",
       "<table border=\"1\" class=\"dataframe\">\n",
       "  <thead>\n",
       "    <tr style=\"text-align: right;\">\n",
       "      <th></th>\n",
       "      <th>year</th>\n",
       "      <th>fips_code</th>\n",
       "      <th>T2M_mean</th>\n",
       "      <th>T2M_max</th>\n",
       "      <th>T2M_min</th>\n",
       "      <th>T2M_std</th>\n",
       "      <th>PRECTOTCORR_sum</th>\n",
       "      <th>PRECTOTCORR_max</th>\n",
       "      <th>extreme_heat_days</th>\n",
       "    </tr>\n",
       "  </thead>\n",
       "  <tbody>\n",
       "    <tr>\n",
       "      <th>0</th>\n",
       "      <td>2016</td>\n",
       "      <td>19001</td>\n",
       "      <td>19.122568</td>\n",
       "      <td>28.00</td>\n",
       "      <td>2.02</td>\n",
       "      <td>5.972346</td>\n",
       "      <td>684.91</td>\n",
       "      <td>42.52</td>\n",
       "      <td>0.0</td>\n",
       "    </tr>\n",
       "    <tr>\n",
       "      <th>1</th>\n",
       "      <td>2016</td>\n",
       "      <td>19003</td>\n",
       "      <td>19.456448</td>\n",
       "      <td>28.55</td>\n",
       "      <td>3.40</td>\n",
       "      <td>5.804227</td>\n",
       "      <td>758.36</td>\n",
       "      <td>39.75</td>\n",
       "      <td>0.0</td>\n",
       "    </tr>\n",
       "    <tr>\n",
       "      <th>2</th>\n",
       "      <td>2016</td>\n",
       "      <td>19005</td>\n",
       "      <td>17.386503</td>\n",
       "      <td>26.93</td>\n",
       "      <td>-1.76</td>\n",
       "      <td>6.388759</td>\n",
       "      <td>904.01</td>\n",
       "      <td>65.20</td>\n",
       "      <td>0.0</td>\n",
       "    </tr>\n",
       "    <tr>\n",
       "      <th>3</th>\n",
       "      <td>2016</td>\n",
       "      <td>19007</td>\n",
       "      <td>19.985355</td>\n",
       "      <td>28.86</td>\n",
       "      <td>2.33</td>\n",
       "      <td>5.958276</td>\n",
       "      <td>554.43</td>\n",
       "      <td>24.78</td>\n",
       "      <td>0.0</td>\n",
       "    </tr>\n",
       "    <tr>\n",
       "      <th>4</th>\n",
       "      <td>2016</td>\n",
       "      <td>19009</td>\n",
       "      <td>18.928087</td>\n",
       "      <td>27.92</td>\n",
       "      <td>2.32</td>\n",
       "      <td>5.904433</td>\n",
       "      <td>719.42</td>\n",
       "      <td>46.14</td>\n",
       "      <td>0.0</td>\n",
       "    </tr>\n",
       "  </tbody>\n",
       "</table>\n",
       "</div>"
      ],
      "text/plain": [
       "   year  fips_code   T2M_mean  T2M_max  T2M_min   T2M_std  PRECTOTCORR_sum  \\\n",
       "0  2016      19001  19.122568    28.00     2.02  5.972346           684.91   \n",
       "1  2016      19003  19.456448    28.55     3.40  5.804227           758.36   \n",
       "2  2016      19005  17.386503    26.93    -1.76  6.388759           904.01   \n",
       "3  2016      19007  19.985355    28.86     2.33  5.958276           554.43   \n",
       "4  2016      19009  18.928087    27.92     2.32  5.904433           719.42   \n",
       "\n",
       "   PRECTOTCORR_max  extreme_heat_days  \n",
       "0            42.52                0.0  \n",
       "1            39.75                0.0  \n",
       "2            65.20                0.0  \n",
       "3            24.78                0.0  \n",
       "4            46.14                0.0  "
      ]
     },
     "execution_count": 36,
     "metadata": {},
     "output_type": "execute_result"
    }
   ],
   "source": [
    "df_weather_features.head()"
   ]
  },
  {
   "cell_type": "code",
   "execution_count": 39,
   "id": "10ab3800",
   "metadata": {},
   "outputs": [],
   "source": [
    "# We can now combine the weather features into the main dataset \n",
    "\n",
    "df_main = pd.read_csv('../data/processed/iowa_yield_with_coords.csv')"
   ]
  },
  {
   "cell_type": "code",
   "execution_count": 40,
   "id": "31ba21d8",
   "metadata": {},
   "outputs": [],
   "source": [
    "df_final = pd.merge(\n",
    "    df_main, \n",
    "    df_weather_features, \n",
    "    left_on = ['year', 'full_fips_code'],\n",
    "    right_on = ['year', 'fips_code'], \n",
    "    how = 'inner'\n",
    ")"
   ]
  },
  {
   "cell_type": "code",
   "execution_count": 42,
   "id": "5c29ddac",
   "metadata": {},
   "outputs": [],
   "source": [
    "df_final.drop(columns = ['fips_code'], inplace = True)"
   ]
  },
  {
   "cell_type": "code",
   "execution_count": 43,
   "id": "a4d878f3",
   "metadata": {},
   "outputs": [
    {
     "data": {
      "text/html": [
       "<div>\n",
       "<style scoped>\n",
       "    .dataframe tbody tr th:only-of-type {\n",
       "        vertical-align: middle;\n",
       "    }\n",
       "\n",
       "    .dataframe tbody tr th {\n",
       "        vertical-align: top;\n",
       "    }\n",
       "\n",
       "    .dataframe thead th {\n",
       "        text-align: right;\n",
       "    }\n",
       "</style>\n",
       "<table border=\"1\" class=\"dataframe\">\n",
       "  <thead>\n",
       "    <tr style=\"text-align: right;\">\n",
       "      <th></th>\n",
       "      <th>year</th>\n",
       "      <th>state_alpha</th>\n",
       "      <th>county_name</th>\n",
       "      <th>county_code</th>\n",
       "      <th>commodity_desc</th>\n",
       "      <th>statisticcat_desc</th>\n",
       "      <th>Value</th>\n",
       "      <th>unit_desc</th>\n",
       "      <th>state_fips_str</th>\n",
       "      <th>county_fips_str</th>\n",
       "      <th>full_fips_code</th>\n",
       "      <th>latitude</th>\n",
       "      <th>longitude</th>\n",
       "      <th>T2M_mean</th>\n",
       "      <th>T2M_max</th>\n",
       "      <th>T2M_min</th>\n",
       "      <th>T2M_std</th>\n",
       "      <th>PRECTOTCORR_sum</th>\n",
       "      <th>PRECTOTCORR_max</th>\n",
       "      <th>extreme_heat_days</th>\n",
       "    </tr>\n",
       "  </thead>\n",
       "  <tbody>\n",
       "    <tr>\n",
       "      <th>0</th>\n",
       "      <td>2023</td>\n",
       "      <td>IA</td>\n",
       "      <td>BUENA VISTA</td>\n",
       "      <td>21</td>\n",
       "      <td>CORN</td>\n",
       "      <td>YIELD</td>\n",
       "      <td>212.0</td>\n",
       "      <td>BU / ACRE</td>\n",
       "      <td>19</td>\n",
       "      <td>21</td>\n",
       "      <td>19021</td>\n",
       "      <td>42.741522</td>\n",
       "      <td>-95.141432</td>\n",
       "      <td>20.072623</td>\n",
       "      <td>31.87</td>\n",
       "      <td>0.63</td>\n",
       "      <td>6.325842</td>\n",
       "      <td>406.65</td>\n",
       "      <td>32.53</td>\n",
       "      <td>0.0</td>\n",
       "    </tr>\n",
       "    <tr>\n",
       "      <th>1</th>\n",
       "      <td>2022</td>\n",
       "      <td>IA</td>\n",
       "      <td>BUENA VISTA</td>\n",
       "      <td>21</td>\n",
       "      <td>CORN</td>\n",
       "      <td>YIELD</td>\n",
       "      <td>196.9</td>\n",
       "      <td>BU / ACRE</td>\n",
       "      <td>19</td>\n",
       "      <td>21</td>\n",
       "      <td>19021</td>\n",
       "      <td>42.741522</td>\n",
       "      <td>-95.141432</td>\n",
       "      <td>19.432240</td>\n",
       "      <td>31.12</td>\n",
       "      <td>-0.06</td>\n",
       "      <td>7.626875</td>\n",
       "      <td>387.74</td>\n",
       "      <td>22.53</td>\n",
       "      <td>0.0</td>\n",
       "    </tr>\n",
       "    <tr>\n",
       "      <th>2</th>\n",
       "      <td>2021</td>\n",
       "      <td>IA</td>\n",
       "      <td>BUENA VISTA</td>\n",
       "      <td>21</td>\n",
       "      <td>CORN</td>\n",
       "      <td>YIELD</td>\n",
       "      <td>203.9</td>\n",
       "      <td>BU / ACRE</td>\n",
       "      <td>19</td>\n",
       "      <td>21</td>\n",
       "      <td>19021</td>\n",
       "      <td>42.741522</td>\n",
       "      <td>-95.141432</td>\n",
       "      <td>19.849344</td>\n",
       "      <td>30.10</td>\n",
       "      <td>1.07</td>\n",
       "      <td>6.757550</td>\n",
       "      <td>450.16</td>\n",
       "      <td>25.16</td>\n",
       "      <td>0.0</td>\n",
       "    </tr>\n",
       "    <tr>\n",
       "      <th>3</th>\n",
       "      <td>2020</td>\n",
       "      <td>IA</td>\n",
       "      <td>BUENA VISTA</td>\n",
       "      <td>21</td>\n",
       "      <td>CORN</td>\n",
       "      <td>YIELD</td>\n",
       "      <td>183.9</td>\n",
       "      <td>BU / ACRE</td>\n",
       "      <td>19</td>\n",
       "      <td>21</td>\n",
       "      <td>19021</td>\n",
       "      <td>42.741522</td>\n",
       "      <td>-95.141432</td>\n",
       "      <td>18.819290</td>\n",
       "      <td>30.50</td>\n",
       "      <td>-3.21</td>\n",
       "      <td>7.607110</td>\n",
       "      <td>326.25</td>\n",
       "      <td>32.19</td>\n",
       "      <td>0.0</td>\n",
       "    </tr>\n",
       "    <tr>\n",
       "      <th>4</th>\n",
       "      <td>2019</td>\n",
       "      <td>IA</td>\n",
       "      <td>BUENA VISTA</td>\n",
       "      <td>21</td>\n",
       "      <td>CORN</td>\n",
       "      <td>YIELD</td>\n",
       "      <td>190.8</td>\n",
       "      <td>BU / ACRE</td>\n",
       "      <td>19</td>\n",
       "      <td>21</td>\n",
       "      <td>19021</td>\n",
       "      <td>42.741522</td>\n",
       "      <td>-95.141432</td>\n",
       "      <td>17.985410</td>\n",
       "      <td>28.31</td>\n",
       "      <td>0.03</td>\n",
       "      <td>6.170368</td>\n",
       "      <td>647.44</td>\n",
       "      <td>28.45</td>\n",
       "      <td>0.0</td>\n",
       "    </tr>\n",
       "  </tbody>\n",
       "</table>\n",
       "</div>"
      ],
      "text/plain": [
       "   year state_alpha  county_name  county_code commodity_desc  \\\n",
       "0  2023          IA  BUENA VISTA           21           CORN   \n",
       "1  2022          IA  BUENA VISTA           21           CORN   \n",
       "2  2021          IA  BUENA VISTA           21           CORN   \n",
       "3  2020          IA  BUENA VISTA           21           CORN   \n",
       "4  2019          IA  BUENA VISTA           21           CORN   \n",
       "\n",
       "  statisticcat_desc  Value  unit_desc  state_fips_str  county_fips_str  \\\n",
       "0             YIELD  212.0  BU / ACRE              19               21   \n",
       "1             YIELD  196.9  BU / ACRE              19               21   \n",
       "2             YIELD  203.9  BU / ACRE              19               21   \n",
       "3             YIELD  183.9  BU / ACRE              19               21   \n",
       "4             YIELD  190.8  BU / ACRE              19               21   \n",
       "\n",
       "   full_fips_code   latitude  longitude   T2M_mean  T2M_max  T2M_min  \\\n",
       "0           19021  42.741522 -95.141432  20.072623    31.87     0.63   \n",
       "1           19021  42.741522 -95.141432  19.432240    31.12    -0.06   \n",
       "2           19021  42.741522 -95.141432  19.849344    30.10     1.07   \n",
       "3           19021  42.741522 -95.141432  18.819290    30.50    -3.21   \n",
       "4           19021  42.741522 -95.141432  17.985410    28.31     0.03   \n",
       "\n",
       "    T2M_std  PRECTOTCORR_sum  PRECTOTCORR_max  extreme_heat_days  \n",
       "0  6.325842           406.65            32.53                0.0  \n",
       "1  7.626875           387.74            22.53                0.0  \n",
       "2  6.757550           450.16            25.16                0.0  \n",
       "3  7.607110           326.25            32.19                0.0  \n",
       "4  6.170368           647.44            28.45                0.0  "
      ]
     },
     "execution_count": 43,
     "metadata": {},
     "output_type": "execute_result"
    }
   ],
   "source": [
    "df_final.head()"
   ]
  },
  {
   "cell_type": "code",
   "execution_count": 46,
   "id": "7b4d1b66",
   "metadata": {},
   "outputs": [],
   "source": [
    "final_output_path = '../data/processed/final_model_data.csv'"
   ]
  },
  {
   "cell_type": "code",
   "execution_count": 47,
   "id": "52c2df9f",
   "metadata": {},
   "outputs": [],
   "source": [
    "df_final.to_csv(final_output_path, index = False)"
   ]
  },
  {
   "cell_type": "code",
   "execution_count": null,
   "id": "9c18ca1c",
   "metadata": {},
   "outputs": [],
   "source": []
  }
 ],
 "metadata": {
  "kernelspec": {
   "display_name": "Python 3",
   "language": "python",
   "name": "python3"
  },
  "language_info": {
   "codemirror_mode": {
    "name": "ipython",
    "version": 3
   },
   "file_extension": ".py",
   "mimetype": "text/x-python",
   "name": "python",
   "nbconvert_exporter": "python",
   "pygments_lexer": "ipython3",
   "version": "3.12.0"
  }
 },
 "nbformat": 4,
 "nbformat_minor": 5
}
