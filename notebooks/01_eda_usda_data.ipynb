{
 "cells": [
  {
   "cell_type": "markdown",
   "id": "aca2ab96",
   "metadata": {},
   "source": [
    "# USDA EDA Raw Data "
   ]
  },
  {
   "cell_type": "markdown",
   "id": "7d46be04",
   "metadata": {},
   "source": [
    "## Load you Data "
   ]
  },
  {
   "cell_type": "code",
   "execution_count": 1,
   "id": "a9c3924b",
   "metadata": {},
   "outputs": [],
   "source": [
    "import pandas as pd \n",
    "import numpy as np"
   ]
  },
  {
   "cell_type": "code",
   "execution_count": 4,
   "id": "2a3283e6",
   "metadata": {},
   "outputs": [],
   "source": [
    "file_path = '../data/raw/usda_corn_yield_iowa_2016_2023.csv'\n",
    "df_usda = pd.read_csv(file_path)"
   ]
  },
  {
   "cell_type": "markdown",
   "id": "04688448",
   "metadata": {},
   "source": [
    "### Sanity Checks "
   ]
  },
  {
   "cell_type": "markdown",
   "id": "f641e054",
   "metadata": {},
   "source": [
    "In this instance we will be checking if the values that have been gathered form the USDA quick stats and the column names along with the data type that is used for each of the variables. We will also see the unique counties . "
   ]
  },
  {
   "cell_type": "code",
   "execution_count": 18,
   "id": "04e060d9",
   "metadata": {},
   "outputs": [
    {
     "name": "stdout",
     "output_type": "stream",
     "text": [
      "     year state_alpha     county_name  county_code commodity_desc  \\\n",
      "819  2024          IA  OTHER COUNTIES          998           CORN   \n",
      "820  2023          IA  OTHER COUNTIES          998           CORN   \n",
      "821  2022          IA  OTHER COUNTIES          998           CORN   \n",
      "822  2021          IA  OTHER COUNTIES          998           CORN   \n",
      "823  2020          IA  OTHER COUNTIES          998           CORN   \n",
      "\n",
      "    statisticcat_desc  Value  unit_desc  \n",
      "819             YIELD  205.7  BU / ACRE  \n",
      "820             YIELD  198.9  BU / ACRE  \n",
      "821             YIELD  150.2  BU / ACRE  \n",
      "822             YIELD  203.8  BU / ACRE  \n",
      "823             YIELD  175.4  BU / ACRE  \n"
     ]
    }
   ],
   "source": [
    "print(df_usda.tail())"
   ]
  },
  {
   "cell_type": "code",
   "execution_count": 7,
   "id": "10154284",
   "metadata": {},
   "outputs": [
    {
     "name": "stdout",
     "output_type": "stream",
     "text": [
      "<class 'pandas.core.frame.DataFrame'>\n",
      "RangeIndex: 824 entries, 0 to 823\n",
      "Data columns (total 8 columns):\n",
      " #   Column             Non-Null Count  Dtype  \n",
      "---  ------             --------------  -----  \n",
      " 0   year               824 non-null    int64  \n",
      " 1   state_alpha        824 non-null    object \n",
      " 2   county_name        824 non-null    object \n",
      " 3   county_code        824 non-null    int64  \n",
      " 4   commodity_desc     824 non-null    object \n",
      " 5   statisticcat_desc  824 non-null    object \n",
      " 6   Value              824 non-null    float64\n",
      " 7   unit_desc          824 non-null    object \n",
      "dtypes: float64(1), int64(2), object(5)\n",
      "memory usage: 51.6+ KB\n"
     ]
    }
   ],
   "source": [
    "df_usda.info()"
   ]
  },
  {
   "cell_type": "code",
   "execution_count": 20,
   "id": "2cc4dca6",
   "metadata": {},
   "outputs": [
    {
     "data": {
      "text/plain": [
       "year                 0\n",
       "state_alpha          0\n",
       "county_name          0\n",
       "county_code          0\n",
       "commodity_desc       0\n",
       "statisticcat_desc    0\n",
       "Value                0\n",
       "unit_desc            0\n",
       "dtype: int64"
      ]
     },
     "execution_count": 20,
     "metadata": {},
     "output_type": "execute_result"
    }
   ],
   "source": [
    "df_usda.isnull().sum()"
   ]
  },
  {
   "cell_type": "code",
   "execution_count": 9,
   "id": "7cb6c0b7",
   "metadata": {},
   "outputs": [
    {
     "name": "stdout",
     "output_type": "stream",
     "text": [
      "We have 101 counties\n"
     ]
    }
   ],
   "source": [
    "unique_counties = df_usda['county_name'].nunique()\n",
    "print(f\"We have {unique_counties} counties\")"
   ]
  },
  {
   "cell_type": "code",
   "execution_count": 13,
   "id": "efa98f3d",
   "metadata": {},
   "outputs": [
    {
     "name": "stdout",
     "output_type": "stream",
     "text": [
      "Unique years in USDA data [np.int64(2016), np.int64(2017), np.int64(2018), np.int64(2019), np.int64(2020), np.int64(2021), np.int64(2022), np.int64(2023), np.int64(2024)]\n"
     ]
    }
   ],
   "source": [
    "years_usda = sorted(df_usda['year'].unique())\n",
    "print(f\"Unique years in USDA data {years_usda}\")"
   ]
  },
  {
   "cell_type": "markdown",
   "id": "d43e44f9",
   "metadata": {},
   "source": []
  }
 ],
 "metadata": {
  "kernelspec": {
   "display_name": "Python 3",
   "language": "python",
   "name": "python3"
  },
  "language_info": {
   "codemirror_mode": {
    "name": "ipython",
    "version": 3
   },
   "file_extension": ".py",
   "mimetype": "text/x-python",
   "name": "python",
   "nbconvert_exporter": "python",
   "pygments_lexer": "ipython3",
   "version": "3.12.0"
  }
 },
 "nbformat": 4,
 "nbformat_minor": 5
}
